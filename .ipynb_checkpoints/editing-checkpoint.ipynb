{
 "cells": [
  {
   "cell_type": "code",
   "execution_count": 1,
   "metadata": {},
   "outputs": [],
   "source": [
    "import pandas as pd\n",
    "\n",
    "df=pd.read_csv(\"netflix_titles.csv\")\n",
    "df=df.drop([\"show_id\",\"type\",\"release_year\"],axis=1)\n",
    "df.rename(columns={\"listed_in\":\"Genre\",\"date_added\":\"Release date\",\"director\":\"Director\",\"cast\":\"Cast\",\"country\":\"Country\",\"rating\":\"Rating\",\"duration\":\"Duration\",\"description\":\"Description\"},inplace=True)\n",
    "df.to_csv(\"netflix_data.csv\",index=False)"
   ]
  },
  {
   "cell_type": "code",
   "execution_count": null,
   "metadata": {},
   "outputs": [],
   "source": []
  }
 ],
 "metadata": {
  "kernelspec": {
   "display_name": "Python 3 (ipykernel)",
   "language": "python",
   "name": "python3"
  },
  "language_info": {
   "codemirror_mode": {
    "name": "ipython",
    "version": 3
   },
   "file_extension": ".py",
   "mimetype": "text/x-python",
   "name": "python",
   "nbconvert_exporter": "python",
   "pygments_lexer": "ipython3",
   "version": "3.11.0"
  },
  "vscode": {
   "interpreter": {
    "hash": "30b3d34d76702e7436d7cd41c2f1d1e45085f0b8a759a4b22d29dbd863b40972"
   }
  }
 },
 "nbformat": 4,
 "nbformat_minor": 2
}
